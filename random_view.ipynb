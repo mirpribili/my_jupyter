{
 "cells": [
  {
   "cell_type": "code",
   "execution_count": 1,
   "metadata": {},
   "outputs": [
    {
     "data": {
      "image/png": "[encoded data removed]",
      "text/plain": [
       "<Figure size 432x288 with 1 Axes>"
      ]
     },
     "metadata": {
      "needs_background": "light"
     },
     "output_type": "display_data"
    }
   ],
   "source": [
    "import math \n",
    "import matplotlib.pyplot as plt\n",
    "import numpy as np \n",
    "from matplotlib.ticker import EngFormatter \n",
    "\n",
    "\n",
    "\n",
    "\n",
    "\n",
    "def Lesson_step(n):\n",
    "    return n\n",
    "\n",
    "\n",
    "\n",
    "\n",
    "\n",
    "\n",
    "\n",
    "step = 10**5\n",
    "x = [i for i in range(1,step,1)]\n",
    "#print(x)\n",
    "y = [Lesson_step( i ) for i in x]\n",
    "\n",
    "x2 = [i/1000 for i in x]\n",
    "#print(\"len x2\", len(x2))\n",
    "\n",
    "#x2 = np.logspace(0, 5, len(x2)) \n",
    "\n",
    "fig = plt.figure()\n",
    "ax = fig.add_subplot(111)\n",
    "\n",
    "#ax.set_xscale('symlog') \n",
    "#formatter0 = EngFormatter(unit ='KHz') \n",
    "#ax.xaxis.set_major_formatter(formatter0) \n",
    "ax.plot(x, y, linewidth = 3)\n",
    "#ax.set_xlabel('Frequency') \n",
    "\n",
    "#plt.xticks([i for i in range(0,110,10)])\n",
    "#plt.yticks([ -20, -40, -60, -80, -100, -126, -145 ])\n",
    "\n",
    "#ax.set_xscale ('linear', linthreshx=1, linscalex=1)\n",
    "\n",
    "#fig.suptitle('СПМ фазового шума выходной частоты генератора', fontweight =\"bold\") \n",
    "\n",
    "plt.grid()\n",
    "\n",
    "\n",
    "plt.show()\n"
   ]
  },
  {
   "cell_type": "code",
   "execution_count": 2,
   "metadata": {},
   "outputs": [
    {
     "name": "stdout",
     "output_type": "stream",
     "text": [
      "1\n"
     ]
    }
   ],
   "source": [
    "import math \n",
    "import matplotlib.pyplot as plt\n",
    "import numpy as np \n",
    "from matplotlib.ticker import EngFormatter \n",
    "import random\n",
    "\n",
    "\n",
    "\n",
    "\n",
    "def Lesson_step(n):\n",
    "    return n\n",
    "\n",
    "\n",
    "\n",
    "print(random.randint(0, 1))\n",
    "\n",
    "\n",
    "\n",
    "step = 10**5 \n",
    "\n",
    "x = [i for i in range(1,step,1)]\n",
    "y = [Lesson_step( i ) for i in x]\n",
    "\n",
    "#fig = plt.figure()\n",
    "#ax = fig.add_subplot(111)\n",
    "#ax.plot(x, y, linewidth = 3)\n",
    "#plt.grid()\n",
    "#plt.show()\n"
   ]
  },
  {
   "cell_type": "code",
   "execution_count": null,
   "metadata": {},
   "outputs": [],
   "source": []
  },
  {
   "cell_type": "code",
   "execution_count": null,
   "metadata": {},
   "outputs": [],
   "source": []
  }
 ],
 "metadata": {
  "kernelspec": {
   "display_name": "Python 3",
   "language": "python",
   "name": "python3"
  },
  "language_info": {
   "codemirror_mode": {
    "name": "ipython",
    "version": 3
   },
   "file_extension": ".py",
   "mimetype": "text/x-python",
   "name": "python",
   "nbconvert_exporter": "python",
   "pygments_lexer": "ipython3",
   "version": "3.7.3"
  }
 },
 "nbformat": 4,
 "nbformat_minor": 2
}
