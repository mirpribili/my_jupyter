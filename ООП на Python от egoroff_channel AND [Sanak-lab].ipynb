{
 "cells": [
  {
   "cell_type": "code",
   "execution_count": null,
   "metadata": {},
   "outputs": [],
   "source": []
  },
  {
   "cell_type": "markdown",
   "metadata": {},
   "source": [
    "# OOП"
   ]
  },
  {
   "cell_type": "raw",
   "metadata": {},
   "source": [
    "https://stepik.org/lesson/361903/step/1?unit=346441"
   ]
  },
  {
   "cell_type": "markdown",
   "metadata": {},
   "source": [
    "## Замыкания\n",
    "#### кода функция пользуется переменными не объявленгными в ее теле\n"
   ]
  },
  {
   "cell_type": "code",
   "execution_count": 4,
   "metadata": {},
   "outputs": [
    {
     "data": {
      "text/plain": [
       "7.12"
      ]
     },
     "execution_count": 4,
     "metadata": {},
     "output_type": "execute_result"
    }
   ],
   "source": [
    "7.12"
   ]
  },
  {
   "cell_type": "code",
   "execution_count": 10,
   "metadata": {},
   "outputs": [
    {
     "name": "stdout",
     "output_type": "stream",
     "text": [
      "Hello my friend Ivan\n",
      "None\n",
      "Hello my friend F-off\n",
      "None\n",
      "19\n",
      "1\n",
      "2\n",
      "3\n"
     ]
    }
   ],
   "source": [
    "def main_func():\n",
    "    name = \"Ivan\"\n",
    "    def inner_func():\n",
    "        print(\"Hello my friend\", name)\n",
    "    return inner_func\n",
    "r = main_func()\n",
    "print(r())\n",
    "################################\n",
    "def main_func(name):\n",
    "    def inner_func():\n",
    "        print(\"Hello my friend\", name)\n",
    "    return inner_func\n",
    "r = main_func(\"F-off\")\n",
    "print(r())\n",
    "################################\n",
    "def adder(value):\n",
    "    \n",
    "    def inner(a):\n",
    "        return value+a\n",
    "    return inner\n",
    "\n",
    "r = adder(11)\n",
    "print(r(8))\n",
    "################################\n",
    "def counter():\n",
    "    count = 0\n",
    "    def inner():\n",
    "        nonlocal count\n",
    "        count += 1\n",
    "        return count\n",
    "    return inner\n",
    "\n",
    "a = counter()\n",
    "print(a())\n",
    "print(a())\n",
    "print(a())"
   ]
  },
  {
   "cell_type": "markdown",
   "metadata": {},
   "source": [
    "## Декоратор\n",
    "### \n"
   ]
  },
  {
   "cell_type": "code",
   "execution_count": 22,
   "metadata": {},
   "outputs": [
    {
     "name": "stdout",
     "output_type": "stream",
     "text": [
      "start decorator...\n",
      "you lord\n",
      "stop decorator... \n",
      " #############################################\n",
      "start decorator...\n",
      "you lord\n",
      "stop decorator... \n",
      " #############################################\n",
      "start decorator...\n",
      "you Lenin lord\n",
      "stop decorator... \n",
      " #############################################\n",
      "start decorator...\n",
      "you Lenin Len lord\n",
      "stop decorator... \n",
      " #############################################\n",
      "start decorator...\n",
      "you Lenin Len lord 200\n",
      "stop decorator... \n",
      " #############################################\n",
      "2start decorator...\n",
      "start decorator...\n",
      "you Lenin Len lord 200\n",
      "stop decorator... \n",
      " #############################################\n",
      "2stop decorator... \n",
      " #############################################\n"
     ]
    }
   ],
   "source": [
    "def decorator(func):\n",
    "\n",
    "    def inner():\n",
    "        print(\"start decorator...\")\n",
    "        func()\n",
    "        print(\"stop decorator...\",f\"\\n\",\"#\"*45)\n",
    "    return inner\n",
    "\n",
    "def say():\n",
    "    print(\"you lord\")\n",
    "    \n",
    "##################################################\n",
    "\n",
    "d = decorator(say)\n",
    "d()\n",
    "\n",
    "##################################################\n",
    "def decorator(func):\n",
    "\n",
    "    def inner():\n",
    "        print(\"start decorator...\")\n",
    "        func()\n",
    "        print(\"stop decorator...\",f\"\\n\",\"#\"*45)\n",
    "    return inner\n",
    "\n",
    "def say():\n",
    "    print(\"you lord\")\n",
    "    \n",
    "say = decorator(say)\n",
    "say()\n",
    "##################################################\n",
    "def decorator(func):\n",
    "\n",
    "    def inner(n):\n",
    "        print(\"start decorator...\")\n",
    "        func(n)\n",
    "        print(\"stop decorator...\",f\"\\n\",\"#\"*45)\n",
    "    return inner\n",
    "\n",
    "def say(name):\n",
    "    print(\"you\", name, \"lord\")\n",
    "\n",
    "say = decorator(say)\n",
    "say(\"Lenin\")\n",
    "\n",
    "##################################################\n",
    "def decorator(func):\n",
    "\n",
    "    def inner(*args, **kwargs):\n",
    "        print(\"start decorator...\")\n",
    "        func(*args, **kwargs)\n",
    "        print(\"stop decorator...\",f\"\\n\",\"#\"*45)\n",
    "    return inner\n",
    "\n",
    "def say(name, surname):\n",
    "    print(\"you\", name, surname, \"lord\")\n",
    "\n",
    "say = decorator(say)\n",
    "say(\"Lenin\", \"Len\")\n",
    "##################################################\n",
    "def decorator(func):\n",
    "\n",
    "    def inner(*args, **kwargs):\n",
    "        print(\"start decorator...\")\n",
    "        func(*args, **kwargs)\n",
    "        print(\"stop decorator...\",f\"\\n\",\"#\"*45)\n",
    "    return inner\n",
    "\n",
    "@decorator\n",
    "def say(name, surname, age):\n",
    "    print(\"you\", name, surname, \"lord\", age)\n",
    "\n",
    "\n",
    "say(\"Lenin\", \"Len\", 200)\n",
    "##################################################\n",
    "def decorator(func):\n",
    "\n",
    "    def inner(*args, **kwargs):\n",
    "        print(\"start decorator...\")\n",
    "        func(*args, **kwargs)\n",
    "        print(\"stop decorator...\",f\"\\n\",\"#\"*45)\n",
    "    return inner\n",
    "\n",
    "def decorator2(func):\n",
    "\n",
    "    def inner(*args, **kwargs):\n",
    "        print(\"2start decorator...\")\n",
    "        func(*args, **kwargs)\n",
    "        print(\"2stop decorator...\",f\"\\n\",\"#\"*45)\n",
    "    return inner\n",
    "\n",
    "@decorator2\n",
    "@decorator\n",
    "def say(name, surname, age):\n",
    "    print(\"you\", name, surname, \"lord\", age)\n",
    "\n",
    "\n",
    "say(\"Lenin\", \"Len\", 200)"
   ]
  },
  {
   "cell_type": "code",
   "execution_count": 6,
   "metadata": {},
   "outputs": [
    {
     "name": "stdout",
     "output_type": "stream",
     "text": [
      "say.__name__:\t\t inner\n",
      "say:\t\t <function table.<locals>.inner at 0x7f10c012e9d8>\n",
      "<table>\n",
      "go home and stay home\n",
      "</table>\n",
      "say():\t\t None\n",
      "sqr.__name__:\t\t sqr\n",
      "sqr.__doc__:\t\t \n",
      "\n",
      "    Функция возводит в квадрат х\n",
      "    :param x:\n",
      "    :return:\n",
      "    \n",
      "Help on function sqr in module __main__:\n",
      "\n",
      "sqr(x)\n",
      "    Функция возводит в квадрат х\n",
      "    :param x:\n",
      "    :return:\n",
      "\n",
      "sqr.__name__:\t\t inner\n",
      "sqr.__doc__:\t\t None\n",
      "Help on function inner in module __main__:\n",
      "\n",
      "inner(*args, **kwargs)\n",
      "\n"
     ]
    }
   ],
   "source": [
    "# потеря имени функйии при декорировании\n",
    "\n",
    "#################################\n",
    "              \n",
    "def table(func):\n",
    "\n",
    "    def inner(*args, **kwargs):\n",
    "        print(\"<table>\")\n",
    "        func(*args, **kwargs)\n",
    "        print(\"</table>\")\n",
    "    return inner\n",
    "\n",
    "def say():\n",
    "    print(\"go home and stay home\")\n",
    "\n",
    "say = table(say)\n",
    "print(\"say.__name__:\\t\\t\",say.__name__)\n",
    "print(\"say:\\t\\t\", say)\n",
    "print(\"say():\\t\\t\",say())\n",
    "\n",
    "\n",
    "\n",
    "  \n",
    "def sqr(x):\n",
    "    \"\"\"\n",
    "\n",
    "    Функция возводит в квадрат х\n",
    "    :param x:\n",
    "    :return:\n",
    "    \"\"\"\n",
    "    print(x**2)\n",
    "print(\"sqr.__name__:\\t\\t\",sqr.__name__)\n",
    "print(\"sqr.__doc__:\\t\\t\",sqr.__doc__)\n",
    "help(sqr)\n",
    "\n",
    "sqr = table(sqr)\n",
    "\n",
    "print(\"sqr.__name__:\\t\\t\",sqr.__name__)\n",
    "print(\"sqr.__doc__:\\t\\t\",sqr.__doc__)\n",
    "help(sqr)\n",
    "\n",
    "\n",
    "\n",
    "\n"
   ]
  },
  {
   "cell_type": "code",
   "execution_count": 7,
   "metadata": {},
   "outputs": [
    {
     "name": "stdout",
     "output_type": "stream",
     "text": [
      "say.__name__:\t\t say\n",
      "say:\t\t <function table.<locals>.inner at 0x7f10c01917b8>\n",
      "<table>\n",
      "go home and stay home\n",
      "</table>\n",
      "say():\t\t None\n",
      "sqr.__name__:\t\t sqr\n",
      "sqr.__doc__:\t\t \n",
      "\n",
      "    Функция возводит в квадрат х\n",
      "    :param x:\n",
      "    :return:\n",
      "    \n",
      "Help on function sqr in module __main__:\n",
      "\n",
      "sqr(x)\n",
      "    Функция возводит в квадрат х\n",
      "    :param x:\n",
      "    :return:\n",
      "\n",
      "sqr.__name__:\t\t sqr\n",
      "sqr.__doc__:\t\t \n",
      "\n",
      "    Функция возводит в квадрат х\n",
      "    :param x:\n",
      "    :return:\n",
      "    \n",
      "Help on function sqr in module __main__:\n",
      "\n",
      "sqr(*args, **kwargs)\n",
      "    Функция возводит в квадрат х\n",
      "    :param x:\n",
      "    :return:\n",
      "\n"
     ]
    }
   ],
   "source": [
    "\n",
    "#################################\n",
    "              \n",
    "def table(func):\n",
    "\n",
    "    def inner(*args, **kwargs):\n",
    "        print(\"<table>\")\n",
    "        func(*args, **kwargs)\n",
    "        print(\"</table>\")\n",
    "    inner.__name__ = func.__name__\n",
    "    inner.__doc__ = func.__doc__\n",
    "    return inner\n",
    "\n",
    "def say():\n",
    "    print(\"go home and stay home\")\n",
    "\n",
    "say = table(say)\n",
    "print(\"say.__name__:\\t\\t\",say.__name__)\n",
    "print(\"say:\\t\\t\", say)\n",
    "print(\"say():\\t\\t\",say())\n",
    "\n",
    "\n",
    "\n",
    "  \n",
    "def sqr(x):\n",
    "    \"\"\"\n",
    "\n",
    "    Функция возводит в квадрат х\n",
    "    :param x:\n",
    "    :return:\n",
    "    \"\"\"\n",
    "    print(x**2)\n",
    "print(\"sqr.__name__:\\t\\t\",sqr.__name__)\n",
    "print(\"sqr.__doc__:\\t\\t\",sqr.__doc__)\n",
    "help(sqr)\n",
    "\n",
    "sqr = table(sqr)\n",
    "\n",
    "print(\"sqr.__name__:\\t\\t\",sqr.__name__)\n",
    "print(\"sqr.__doc__:\\t\\t\",sqr.__doc__)\n",
    "help(sqr)\n"
   ]
  },
  {
   "cell_type": "code",
   "execution_count": 9,
   "metadata": {},
   "outputs": [
    {
     "name": "stdout",
     "output_type": "stream",
     "text": [
      "say.__name__:\t\t say\n",
      "say:\t\t <function say at 0x7f10c012e158>\n",
      "<table>\n",
      "go home and stay home\n",
      "</table>\n",
      "say():\t\t None\n",
      "sqr.__name__:\t\t sqr\n",
      "sqr.__doc__:\t\t \n",
      "\n",
      "    Функция возводит в квадрат х\n",
      "    :param x:\n",
      "    :return:\n",
      "    \n",
      "Help on function sqr in module __main__:\n",
      "\n",
      "sqr(x)\n",
      "    Функция возводит в квадрат х\n",
      "    :param x:\n",
      "    :return:\n",
      "\n",
      "sqr.__name__:\t\t sqr\n",
      "sqr.__doc__:\t\t \n",
      "\n",
      "    Функция возводит в квадрат х\n",
      "    :param x:\n",
      "    :return:\n",
      "    \n",
      "Help on function sqr in module __main__:\n",
      "\n",
      "sqr(x)\n",
      "    Функция возводит в квадрат х\n",
      "    :param x:\n",
      "    :return:\n",
      "\n"
     ]
    }
   ],
   "source": [
    "from functools import wraps\n",
    "def table(func):\n",
    "\n",
    "    @wraps(func)\n",
    "    def inner(*args, **kwargs):\n",
    "        print(\"<table>\")\n",
    "        func(*args, **kwargs)\n",
    "        print(\"</table>\")\n",
    "    return inner\n",
    "\n",
    "\n",
    "def say():\n",
    "    print(\"go home and stay home\")\n",
    "\n",
    "say = table(say)\n",
    "print(\"say.__name__:\\t\\t\",say.__name__)\n",
    "print(\"say:\\t\\t\", say)\n",
    "print(\"say():\\t\\t\",say())\n",
    "\n",
    "\n",
    "\n",
    "  \n",
    "def sqr(x):\n",
    "    \"\"\"\n",
    "\n",
    "    Функция возводит в квадрат х\n",
    "    :param x:\n",
    "    :return:\n",
    "    \"\"\"\n",
    "    print(x**2)\n",
    "print(\"sqr.__name__:\\t\\t\",sqr.__name__)\n",
    "print(\"sqr.__doc__:\\t\\t\",sqr.__doc__)\n",
    "help(sqr)\n",
    "\n",
    "sqr = table(sqr)\n",
    "\n",
    "print(\"sqr.__name__:\\t\\t\",sqr.__name__)\n",
    "print(\"sqr.__doc__:\\t\\t\",sqr.__doc__)\n",
    "help(sqr)\n"
   ]
  },
  {
   "cell_type": "markdown",
   "metadata": {},
   "source": [
    "## Моносостояние"
   ]
  },
  {
   "cell_type": "code",
   "execution_count": 28,
   "metadata": {},
   "outputs": [
    {
     "data": {
      "text/plain": [
       "2.4"
      ]
     },
     "execution_count": 28,
     "metadata": {},
     "output_type": "execute_result"
    }
   ],
   "source": [
    "2.4"
   ]
  },
  {
   "cell_type": "code",
   "execution_count": 6,
   "metadata": {},
   "outputs": [
    {
     "name": "stdout",
     "output_type": "stream",
     "text": [
      "{'breed': 'pers', 'color': 'red'}\n"
     ]
    }
   ],
   "source": [
    "class Cat:\n",
    "    __shared_attr = {\n",
    "        'breed': 'pers',\n",
    "        'color': 'black'\n",
    "    }\n",
    "    \n",
    "    def __init__(self):\n",
    "        self.__dict__ = Cat.__shared_attr\n",
    "cat = Cat()\n",
    "cat.color = \"red\"\n",
    "\n",
    "cat2 = Cat()\n",
    "print(cat2.__dict__)"
   ]
  },
  {
   "cell_type": "markdown",
   "metadata": {},
   "source": [
    "##  Геттеры и сеттеры, property атрибуты"
   ]
  },
  {
   "cell_type": "code",
   "execution_count": 27,
   "metadata": {},
   "outputs": [
    {
     "data": {
      "text/plain": [
       "2.6"
      ]
     },
     "execution_count": 27,
     "metadata": {},
     "output_type": "execute_result"
    }
   ],
   "source": [
    "2.6"
   ]
  },
  {
   "cell_type": "code",
   "execution_count": 10,
   "metadata": {},
   "outputs": [
    {
     "name": "stdout",
     "output_type": "stream",
     "text": [
      "{'name': 'new_name', '_BankAccount__balance': 125}\n"
     ]
    }
   ],
   "source": [
    "class BankAccount(object):\n",
    "    \"\"\"docstring for BankAccount\"\"\"\n",
    "    def __init__(self, name, balance):\n",
    "        self.name = name\n",
    "        self.__balance = balance\n",
    "\n",
    "    def get_balance(self):\n",
    "        print('get balance')\n",
    "        return self.__balance\n",
    "    \n",
    "    def set_balance(self, value):\n",
    "        print('set balance')\n",
    "        if not isinstance(value, (int, float)):\n",
    "            raise ValueError('Баланс должен быть числом')\n",
    "        self.__balance = value\n",
    "    \n",
    "    def delete_balance(self):\n",
    "        print('delete balance')\n",
    "        del self.__balance\n",
    "\n",
    "    balance = property(\n",
    "        fget=get_balance,\n",
    "        fset=set_balance,\n",
    "        fdel=delete_balance)\n",
    "    \n",
    "new_account = BankAccount('new_name', 125)\n",
    "    \n",
    "print(new_account.__dict__)"
   ]
  },
  {
   "cell_type": "markdown",
   "metadata": {},
   "source": [
    "## Декоратор Property"
   ]
  },
  {
   "cell_type": "code",
   "execution_count": 29,
   "metadata": {},
   "outputs": [
    {
     "data": {
      "text/plain": [
       "2.7"
      ]
     },
     "execution_count": 29,
     "metadata": {},
     "output_type": "execute_result"
    }
   ],
   "source": [
    "2.7"
   ]
  },
  {
   "cell_type": "code",
   "execution_count": 11,
   "metadata": {},
   "outputs": [
    {
     "name": "stdout",
     "output_type": "stream",
     "text": [
      "{'name': 'new_name', '_BankAccount__balance': 125}\n"
     ]
    }
   ],
   "source": [
    "class BankAccount(object):\n",
    "    \"\"\"docstring for BankAccount\"\"\"\n",
    "    def __init__(self, name, balance):\n",
    "        self.name = name\n",
    "        self.__balance = balance\n",
    "\n",
    "    def get_balance(self):\n",
    "        print('get balance')\n",
    "        return self.__balance\n",
    "    \n",
    "    def set_balance(self, value):\n",
    "        print('set balance')\n",
    "        if not isinstance(value, (int, float)):\n",
    "            raise ValueError('Баланс должен быть числом')\n",
    "        self.__balance = value\n",
    "    \n",
    "    def delete_balance(self):\n",
    "        print('delete balance')\n",
    "        del self.__balance\n",
    "\n",
    "    balance = property(\n",
    "        fget=get_balance,\n",
    "        fset=set_balance,\n",
    "        fdel=delete_balance)\n",
    "    \n",
    "new_account = BankAccount('new_name', 125)\n",
    "    \n",
    "print(new_account.__dict__)"
   ]
  },
  {
   "cell_type": "markdown",
   "metadata": {},
   "source": [
    "### Перепишем"
   ]
  },
  {
   "cell_type": "code",
   "execution_count": 13,
   "metadata": {},
   "outputs": [],
   "source": [
    "class BankAccount(object):\n",
    "    \"\"\"docstring for BankAccount\"\"\"\n",
    "    def __init__(self, name, balance):\n",
    "        self.name = name\n",
    "        self.__balance = balance\n",
    "\n",
    "    def get_balance(self):\n",
    "        print('get balance')\n",
    "        return self.__balance\n",
    "    \n",
    "    def set_balance(self, value):\n",
    "        print('set balance')\n",
    "        if not isinstance(value, (int, float)):\n",
    "            raise ValueError('Баланс должен быть числом')\n",
    "        self.__balance = value\n",
    "    \n",
    "    def delete_balance(self):\n",
    "        print('delete balance')\n",
    "        del self.__balance\n",
    "\n",
    "    my_balance = property()\n",
    "    my_balance = my_balance.getter(get_balance)\n",
    "    my_balance = my_balance.setter(set_balance)\n",
    "    my_balance = my_balance.deleter(delete_balance)"
   ]
  },
  {
   "cell_type": "markdown",
   "metadata": {},
   "source": [
    "### Перепишем 2"
   ]
  },
  {
   "cell_type": "code",
   "execution_count": 25,
   "metadata": {},
   "outputs": [
    {
     "name": "stdout",
     "output_type": "stream",
     "text": [
      "a1 #########################\n",
      "get balance\n",
      "100\n",
      "a2 #########################\n",
      "get balance\n",
      "200\n",
      "a3 #########################\n",
      "get balance\n",
      "200\n",
      "set balance\n",
      "get balance\n",
      "400\n",
      "name_a4 #########################\n",
      "get balance\n",
      "200\n",
      "set balance\n",
      "get balance\n",
      "400\n"
     ]
    }
   ],
   "source": [
    "print(\"a1\",\"#\"*25)\n",
    "class BankAccount(object):\n",
    "    \"\"\"docstring for BankAccount\"\"\"\n",
    "    def __init__(self, name, balance):\n",
    "        self.name = name\n",
    "        self.__balance = balance\n",
    "\n",
    "    def my_balance(self):\n",
    "        print('get balance')\n",
    "        return self.__balance\n",
    "\n",
    "\n",
    "    my_balance = property(my_balance)\n",
    "\n",
    "a = BankAccount('name_a1', 100)\n",
    "print(a.my_balance)\n",
    "print(\"a2\",\"#\"*25)\n",
    "####################################################################\n",
    "class BankAccount2(object):\n",
    "    \"\"\"docstring for BankAccount\"\"\"\n",
    "    def __init__(self, name, balance):\n",
    "        self.name = name\n",
    "        self.__balance = balance\n",
    "    \n",
    "    @property\n",
    "    def my_balance(self):\n",
    "        print('get balance')\n",
    "        return self.__balance\n",
    "\n",
    "a2 = BankAccount('name_a2', 200)\n",
    "print(a2.my_balance)\n",
    "print(\"a3\",\"#\"*25)\n",
    "####################################################################\n",
    "class BankAccount3(object):\n",
    "    \"\"\"docstring for BankAccount\"\"\"\n",
    "    def __init__(self, name, balance):\n",
    "        self.name = name\n",
    "        self.__balance = balance\n",
    "    \n",
    "    @property\n",
    "    def my_balance(self):\n",
    "        print('get balance')\n",
    "        return self.__balance\n",
    "\n",
    "    my_property_balance = my_balance\n",
    "\n",
    "    def my_balance(self, value):\n",
    "        print('set balance')\n",
    "        if not isinstance(value, (int, float)):\n",
    "            raise ValueError('Баланс должен быть числом')\n",
    "        self.__balance = value\n",
    "\n",
    "    my_balance = my_property_balance.setter(my_balance)\n",
    "\n",
    "\n",
    "a3 = BankAccount3('name_a3', 200)\n",
    "print(a3.my_balance)\n",
    "a3.my_balance = 400\n",
    "print(a3.my_balance)\n",
    "####################################################################\n",
    "class BankAccount4(object):\n",
    "    \"\"\"docstring for BankAccount\"\"\"\n",
    "    def __init__(self, name, balance):\n",
    "        self.name = name\n",
    "        print(name,\"#\"*25)\n",
    "        self.__balance = balance\n",
    "    \n",
    "    @property\n",
    "    def my_balance(self):\n",
    "        print('get balance')\n",
    "        return self.__balance\n",
    "\n",
    "    @my_balance.setter\n",
    "    def my_balance(self, value):\n",
    "        print('set balance')\n",
    "        if not isinstance(value, (int, float)):\n",
    "            raise ValueError('Баланс должен быть числом')\n",
    "        self.__balance = value\n",
    "\n",
    "\n",
    "\n",
    "a4 = BankAccount4('name_a4', 200)\n",
    "print(a4.my_balance)\n",
    "a4.my_balance = 400\n",
    "print(a4.my_balance)\n",
    "####################################################################\n"
   ]
  },
  {
   "cell_type": "code",
   "execution_count": null,
   "metadata": {},
   "outputs": [],
   "source": []
  },
  {
   "cell_type": "markdown",
   "metadata": {},
   "source": [
    "# На основе черепашки"
   ]
  },
  {
   "cell_type": "markdown",
   "metadata": {},
   "source": [
    "## Программирование на Python [Sanak-lab]"
   ]
  },
  {
   "cell_type": "code",
   "execution_count": 4,
   "metadata": {},
   "outputs": [
    {
     "data": {
      "text/html": [
       "<img src=\"game-bg.gif\" width=\"200\" height=\"200\"/>"
      ],
      "text/plain": [
       "<IPython.core.display.Image object>"
      ]
     },
     "execution_count": 4,
     "metadata": {},
     "output_type": "execute_result"
    }
   ],
   "source": [
    "#![title](game-bg.gif)\n",
    "\n",
    "from IPython.display import Image\n",
    "from IPython.core.display import HTML \n",
    "\n",
    "Image(url= \"game-bg.gif\", width=200, height=200)\n"
   ]
  },
  {
   "cell_type": "code",
   "execution_count": null,
   "metadata": {},
   "outputs": [],
   "source": [
    "import turtle  # импортируем модуль Черепашка\n",
    "import random  # импортируем модуль для работы со случайными числами\n",
    "\n",
    "# Экран \n",
    "window = turtle.Screen()  # получение объекта экрана\n",
    "window.bgcolor(\"black\")  # изменение цвета окна\n",
    "window.tracer(2)  # скорость обновления экрана\n",
    "window.bgpic(\"game-bg.gif\")\n",
    "\n",
    "# Рамка поля\n",
    "frame = turtle.Turtle()  # создание черепашки\n",
    "frame.penup()  # поднимаем перо\n",
    "frame.goto(300, 300)  # переходим в правый верхний угол\n",
    "frame.width(3)  # увеличиваем толщину пера\n",
    "frame.pendown()  # опускаем перо\n",
    "frame.color(\"white\")  # меняем цвет пера\n",
    "for i in range(4):  # 4 раза делаем в цикле:\n",
    "    frame.right(90)  # поворот направо на 90 градусов\n",
    "    frame.forward(600)  # идем вперед на 600 пикселей\n",
    "frame.hideturtle()  # прячем черепашку\n",
    "\n",
    "# Игрок\n",
    "player = turtle.Turtle()  # создаем черепашку игрока\n",
    "player.color(\"blue\")  # меняем цвет\n",
    "player.shape(\"triangle\")  # меняем форму на треугольник\n",
    "player.penup()  # поднимаем перо\n",
    "angle = random.randint(0, 360)  # выбираем случайный угол\n",
    "player.right(angle)  # поворачиваемся на случайный угол\n",
    "\n",
    "# Цели / еда\n",
    "goals = []  # пустой список для целей\n",
    "for i in range(10):  # 10 раз в цикле\n",
    "    goal = turtle.Turtle()  # создаем одну цель\n",
    "    goal.color(\"red\")  # меняем цвет\n",
    "    goal.shape(\"circle\")  # меняем форму на круг\n",
    "    goal.penup()  # поднимаем перо\n",
    "\n",
    "    # выбираем случайную координату и переходим в нее\n",
    "    x = random.randint(-290, 290)\n",
    "    y = random.randint(-290, 290)\n",
    "    goal.goto(x, y)\n",
    "\n",
    "    # выбираем случайный угол и поворачиваемся на него\n",
    "    angle = random.randint(0, 360)\n",
    "    goal.right(angle)\n",
    "\n",
    "    goals.append(goal)  # добавляем новую цель в список целей\n",
    "\n",
    "\n",
    "def turn_left():\n",
    "    player.left(20)\n",
    "\n",
    "\n",
    "def turn_right():\n",
    "    player.right(20)\n",
    "\n",
    "\n",
    "def collide(t1, t2):  # касаются ли две черепашки\n",
    "    dist = t1.distance(t2)  # расстояние между черепашками\n",
    "    if dist < 20:\n",
    "        return True  # касаются\n",
    "    else:\n",
    "        return False  # не касаются\n",
    "\n",
    "\n",
    "# Обрабатывать клавиши (действия пользователя)\n",
    "window.listen()\n",
    "window.onkey(turn_left, \"Left\")  # при нажатии на клавишу `Left`  выполнить функцию\n",
    "window.onkey(turn_right, \"Right\")  # при нажатии на клавишу `Right` выполнить функцию\n",
    "\n",
    "info = turtle.Turtle()\n",
    "info.color(\"white\")\n",
    "info.hideturtle()      # прячем\n",
    "info.penup()           # поднимаем перо\n",
    "info.goto(0, 310)      # в верхнюю часть экрана\n",
    "\n",
    "# Основной цикл: движения, потом правила\n",
    "speed = 1\n",
    "score = 0\n",
    "while True:  # бесконечный цикл\n",
    "    player.forward(speed)  # движение игрока\n",
    "\n",
    "    if player.xcor() > 290 or player.xcor() < -290:  # отталкивание от стенок по оси Х\n",
    "        player.right(180)\n",
    "    if player.ycor() > 290 or player.ycor() < -290:  # отталкивание от стенок по оси Y\n",
    "        player.right(180)\n",
    "\n",
    "    for g in goals:  # для всех целей\n",
    "        g.forward(speed)  # движение целей\n",
    "\n",
    "        if g.xcor() > 290 or g.xcor() < -290:  # отталикание от стенок X\n",
    "            g.right(180)\n",
    "        if g.ycor() > 290 or g.ycor() < -290:  # отталкивание от стенок Y\n",
    "            g.right(180)\n",
    "\n",
    "        if collide(player, g):\n",
    "            # обновление счета\n",
    "            score = score + 1\n",
    "            info.clear()       # очищаем все написанное  # выбираем случайную координату и переходим в нее\n",
    "            info.write(score, align=\"center\", font=(\"Arial\", 14)  )\n",
    "            # выбираем случайную координату и переходим в нее\n",
    "            x = random.randint(-290, 290)\n",
    "            y = random.randint(-290, 290)\n",
    "            g.goto(x, y)\n",
    "\n",
    "            # выбираем случайный угол и поворачиваемся на него\n",
    "            angle = random.randint(0, 360)\n",
    "            g.right(angle)\n",
    "\n",
    "turtle.exitonclick()  # закрытие только по команде пользователя\n"
   ]
  },
  {
   "cell_type": "markdown",
   "metadata": {},
   "source": [
    "## Вау красота)"
   ]
  },
  {
   "cell_type": "code",
   "execution_count": 5,
   "metadata": {},
   "outputs": [],
   "source": [
    "from turtle import *\n",
    "\n",
    "t1 = Turtle()\n",
    "t1.color('red')\n",
    "t1.width(5)\n",
    "t1.shape('triangle')\n",
    "t1.left(30)\n",
    "\n",
    "t2 = Turtle()\n",
    "t2.color('blue')\n",
    "t2.width(3)\n",
    "t2.shape('triangle')\n",
    "t2.left(150)\n",
    "\n",
    "t3 = Turtle()\n",
    "t3.color('green')\n",
    "t3.width(7)\n",
    "t3.shape('triangle')\n",
    "t3.left(270)\n",
    "\n",
    "total = 2\n",
    "while total > 0:\n",
    "    large = 1\n",
    "    while large < 4:\n",
    "        i = 0\n",
    "        while i < 50:\n",
    "            t1.fd(large)\n",
    "            t1.right(3.6)\n",
    "            t2.fd(large)\n",
    "            t2.right(3.6)\n",
    "            t3.fd(large)\n",
    "            t3.right(3.6)\n",
    "            i += 1\n",
    "            j = 0\n",
    "        while j < 25:\n",
    "            t1.fd(1)\n",
    "            t1.right(7.2)\n",
    "            t2.fd(1)\n",
    "            t2.right(7.2)\n",
    "            t3.fd(1)\n",
    "            t3.right(7.2)\n",
    "            j += 1\n",
    "        large += 1\n",
    "    t1.left(180)\n",
    "    t2.left(180)\n",
    "    t3.left(180)\n",
    "    total -= 1\n",
    "    \n",
    "t1.hideturtle()\n",
    "t2.hideturtle()\n",
    "t3.hideturtle()\n",
    "exitonclick()"
   ]
  },
  {
   "cell_type": "markdown",
   "metadata": {},
   "source": [
    "# Черепашьи гонки"
   ]
  },
  {
   "cell_type": "code",
   "execution_count": 1,
   "metadata": {},
   "outputs": [
    {
     "name": "stdout",
     "output_type": "stream",
     "text": [
      "t2 win!\n"
     ]
    },
    {
     "ename": "KeyboardInterrupt",
     "evalue": "",
     "output_type": "error",
     "traceback": [
      "\u001b[0;31m---------------------------------------------------------------------------\u001b[0m",
      "\u001b[0;31mKeyboardInterrupt\u001b[0m                         Traceback (most recent call last)",
      "\u001b[0;32m<ipython-input-1-a7ae9305dfac>\u001b[0m in \u001b[0;36m<module>\u001b[0;34m\u001b[0m\n\u001b[1;32m     64\u001b[0m \u001b[0;34m\u001b[0m\u001b[0m\n\u001b[1;32m     65\u001b[0m \u001b[0;34m\u001b[0m\u001b[0m\n\u001b[0;32m---> 66\u001b[0;31m \u001b[0mturtle\u001b[0m\u001b[0;34m.\u001b[0m\u001b[0mexitonclick\u001b[0m\u001b[0;34m(\u001b[0m\u001b[0;34m)\u001b[0m\u001b[0;34m\u001b[0m\u001b[0;34m\u001b[0m\u001b[0m\n\u001b[0m",
      "\u001b[0;32m~/anaconda3/lib/python3.7/turtle.py\u001b[0m in \u001b[0;36mexitonclick\u001b[0;34m()\u001b[0m\n",
      "\u001b[0;32m~/anaconda3/lib/python3.7/turtle.py\u001b[0m in \u001b[0;36mexitonclick\u001b[0;34m(self)\u001b[0m\n\u001b[1;32m   3792\u001b[0m             \u001b[0;32mreturn\u001b[0m\u001b[0;34m\u001b[0m\u001b[0;34m\u001b[0m\u001b[0m\n\u001b[1;32m   3793\u001b[0m         \u001b[0;32mtry\u001b[0m\u001b[0;34m:\u001b[0m\u001b[0;34m\u001b[0m\u001b[0;34m\u001b[0m\u001b[0m\n\u001b[0;32m-> 3794\u001b[0;31m             \u001b[0mmainloop\u001b[0m\u001b[0;34m(\u001b[0m\u001b[0;34m)\u001b[0m\u001b[0;34m\u001b[0m\u001b[0;34m\u001b[0m\u001b[0m\n\u001b[0m\u001b[1;32m   3795\u001b[0m         \u001b[0;32mexcept\u001b[0m \u001b[0mAttributeError\u001b[0m\u001b[0;34m:\u001b[0m\u001b[0;34m\u001b[0m\u001b[0;34m\u001b[0m\u001b[0m\n\u001b[1;32m   3796\u001b[0m             \u001b[0mexit\u001b[0m\u001b[0;34m(\u001b[0m\u001b[0;36m0\u001b[0m\u001b[0;34m)\u001b[0m\u001b[0;34m\u001b[0m\u001b[0;34m\u001b[0m\u001b[0m\n",
      "\u001b[0;32m~/anaconda3/lib/python3.7/turtle.py\u001b[0m in \u001b[0;36mmainloop\u001b[0;34m()\u001b[0m\n",
      "\u001b[0;32m~/anaconda3/lib/python3.7/turtle.py\u001b[0m in \u001b[0;36mmainloop\u001b[0;34m(self)\u001b[0m\n\u001b[1;32m    811\u001b[0m \u001b[0;34m\u001b[0m\u001b[0m\n\u001b[1;32m    812\u001b[0m         \"\"\"\n\u001b[0;32m--> 813\u001b[0;31m         \u001b[0mTK\u001b[0m\u001b[0;34m.\u001b[0m\u001b[0mmainloop\u001b[0m\u001b[0;34m(\u001b[0m\u001b[0;34m)\u001b[0m\u001b[0;34m\u001b[0m\u001b[0;34m\u001b[0m\u001b[0m\n\u001b[0m\u001b[1;32m    814\u001b[0m \u001b[0;34m\u001b[0m\u001b[0m\n\u001b[1;32m    815\u001b[0m     \u001b[0;32mdef\u001b[0m \u001b[0mtextinput\u001b[0m\u001b[0;34m(\u001b[0m\u001b[0mself\u001b[0m\u001b[0;34m,\u001b[0m \u001b[0mtitle\u001b[0m\u001b[0;34m,\u001b[0m \u001b[0mprompt\u001b[0m\u001b[0;34m)\u001b[0m\u001b[0;34m:\u001b[0m\u001b[0;34m\u001b[0m\u001b[0;34m\u001b[0m\u001b[0m\n",
      "\u001b[0;32m~/anaconda3/lib/python3.7/tkinter/__init__.py\u001b[0m in \u001b[0;36mmainloop\u001b[0;34m(n)\u001b[0m\n\u001b[1;32m    558\u001b[0m \u001b[0;32mdef\u001b[0m \u001b[0mmainloop\u001b[0m\u001b[0;34m(\u001b[0m\u001b[0mn\u001b[0m\u001b[0;34m=\u001b[0m\u001b[0;36m0\u001b[0m\u001b[0;34m)\u001b[0m\u001b[0;34m:\u001b[0m\u001b[0;34m\u001b[0m\u001b[0;34m\u001b[0m\u001b[0m\n\u001b[1;32m    559\u001b[0m     \u001b[0;34m\"\"\"Run the main loop of Tcl.\"\"\"\u001b[0m\u001b[0;34m\u001b[0m\u001b[0;34m\u001b[0m\u001b[0m\n\u001b[0;32m--> 560\u001b[0;31m     \u001b[0m_default_root\u001b[0m\u001b[0;34m.\u001b[0m\u001b[0mtk\u001b[0m\u001b[0;34m.\u001b[0m\u001b[0mmainloop\u001b[0m\u001b[0;34m(\u001b[0m\u001b[0mn\u001b[0m\u001b[0;34m)\u001b[0m\u001b[0;34m\u001b[0m\u001b[0;34m\u001b[0m\u001b[0m\n\u001b[0m\u001b[1;32m    561\u001b[0m \u001b[0;34m\u001b[0m\u001b[0m\n\u001b[1;32m    562\u001b[0m \u001b[0mgetint\u001b[0m \u001b[0;34m=\u001b[0m \u001b[0mint\u001b[0m\u001b[0;34m\u001b[0m\u001b[0;34m\u001b[0m\u001b[0m\n",
      "\u001b[0;31mKeyboardInterrupt\u001b[0m: "
     ]
    }
   ],
   "source": [
    "\n",
    "import turtle\n",
    "import random\n",
    "\n",
    "field = turtle.Turtle()\n",
    "field.penup()\n",
    "field.goto(-200, 200)\n",
    "field.pendown()\n",
    "field.speed(10)\n",
    "\n",
    "line = 300\n",
    "\n",
    "for i in range(8):\n",
    "    field.right(90)\n",
    "    field.forward(line)\n",
    "    field.left(90)\n",
    "    field.penup()\n",
    "    field.forward(line / 10)\n",
    "    field.pendown()\n",
    "    field.left(90)\n",
    "    field.forward(line)\n",
    "    field.right(90)\n",
    "    field.penup()\n",
    "    field.forward(line / 10)\n",
    "    field.pendown()\n",
    "field.hideturtle()\n",
    "\n",
    "t1 = turtle.Turtle()\n",
    "t1.shape('turtle')\n",
    "t1.color('red')\n",
    "t1.penup()\n",
    "t1.goto(-200, 50)\n",
    "\n",
    "t2 = turtle.Turtle()\n",
    "t2.shape('turtle')\n",
    "t2.color('blue')\n",
    "t2.penup()\n",
    "t2.goto(-200, -50)\n",
    "\n",
    "finish = -200 + 15 * (line / 10)\n",
    "\n",
    "while t1.xcor() < finish and t2.xcor() < finish:\n",
    "    step1 = random.randint(1, 5)\n",
    "    step2 = random.randint(1, 5)\n",
    "    t1.forward(step1)\n",
    "    t2.forward(step2)\n",
    "\n",
    "def dance(t):\n",
    "    t.pendown()\n",
    "    t.goto(0, 100)\n",
    "    for i in range(4):\n",
    "        t.forward(25)\n",
    "        t.left(90)\n",
    "\n",
    "\n",
    "if t1.xcor() >= finish:\n",
    "    print(\"t1 win!\")\n",
    "    dance(t1)\n",
    "elif t2.xcor() >= finish:\n",
    "    print(\"t2 win!\")\n",
    "    dance(t2)\n",
    "else: # если у вас три черепашки\n",
    "    print(\"t3 win!\")\n",
    "    dance(t3)\n",
    "\n",
    "\n",
    "turtle.exitonclick()\n"
   ]
  },
  {
   "cell_type": "markdown",
   "metadata": {},
   "source": [
    "# Class"
   ]
  },
  {
   "cell_type": "markdown",
   "metadata": {},
   "source": [
    "https://stepik.org/lesson/264822/step/2?unit=245751\n",
    "Машина\n",
    "\n",
    "Измените свойство объекта `car`: пусть это будет машина марки \"Reno\" с 17 размером колес.\n",
    "\n",
    "Обратите внимание: нужно изменить свойства объекта, но не класса"
   ]
  },
  {
   "cell_type": "code",
   "execution_count": 2,
   "metadata": {},
   "outputs": [
    {
     "name": "stdout",
     "output_type": "stream",
     "text": [
      "Reno\n",
      "17\n"
     ]
    }
   ],
   "source": [
    "class Machine():\n",
    "    mark = ''\n",
    "    wheeldiameter = 0\n",
    "car = Machine()\n",
    "# измените марку\n",
    "car.mark = \"Reno\"\n",
    "car.wheeldiameter = \"17\"\n",
    "# измените диаметр колес\n",
    "print(car.mark)\n",
    "print(car.wheeldiameter)"
   ]
  },
  {
   "cell_type": "markdown",
   "metadata": {},
   "source": [
    "\n",
    "\n",
    "Ученик\n",
    "\n",
    "Перед тобой программа, в которой описан класс «Ученик» и создано два его экземпляра.\n",
    "\n",
    "Исправь все ошибки. Программа должна вывести на экран информацию о двух учениках в столбик в формате \"Фамилия Имя\".\n",
    "\n",
    "Sample Input:\n",
    "\n",
    "Игорь\n",
    "Воронов\n",
    "Антон\n",
    "Кузнецов\n",
    "\n",
    "Sample Output:\n",
    "\n",
    "Воронов Игорь\n",
    "Кузнецов Антон\n",
    "\n"
   ]
  },
  {
   "cell_type": "code",
   "execution_count": null,
   "metadata": {},
   "outputs": [],
   "source": [
    "class Pupil():\n",
    "    name = ''\n",
    "    surname = ''\n",
    "    age = 0\n",
    "\n",
    "student_1 = Pupil()\n",
    "student_1.name = input()\n",
    "student_1.surname = input()\n",
    "student_2 = Pupil()\n",
    "student_2.name = input()\n",
    "student_2.surname = input()\n",
    "\n",
    "print(student_1.surname + \" \" + student_1.name)\n",
    "print(student_2.surname + \" \" + student_2.name)"
   ]
  },
  {
   "cell_type": "raw",
   "metadata": {},
   "source": [
    "\n",
    "\n",
    "Стек-1\n",
    "\n",
    "У вас есть шаблон класса \"Стек\". Релизуйте в нем метод push(x), который будет добавлять элемент Х в стек.\n",
    "\n",
    "Sample Input:\n",
    "\n",
    "Sample Output:\n",
    "\n",
    "[3, 2, 1]\n",
    "\n"
   ]
  },
  {
   "cell_type": "code",
   "execution_count": 3,
   "metadata": {},
   "outputs": [
    {
     "name": "stdout",
     "output_type": "stream",
     "text": [
      "[3, 2, 1]\n"
     ]
    }
   ],
   "source": [
    "class Stack():\n",
    "    def create(self):\n",
    "        self.list = list()\n",
    "    def push(self, x):\n",
    "        # пишите код класса здесь\n",
    "        self.list.append(x)\n",
    "\n",
    "# не изменяйте код ниже\n",
    "s = Stack()\n",
    "s.create()\n",
    "s.push(3)\n",
    "s.push(2)\n",
    "s.push(1)\n",
    "print(s.list)"
   ]
  },
  {
   "cell_type": "code",
   "execution_count": null,
   "metadata": {},
   "outputs": [],
   "source": []
  },
  {
   "cell_type": "code",
   "execution_count": null,
   "metadata": {},
   "outputs": [],
   "source": []
  },
  {
   "cell_type": "code",
   "execution_count": null,
   "metadata": {},
   "outputs": [],
   "source": []
  },
  {
   "cell_type": "code",
   "execution_count": null,
   "metadata": {},
   "outputs": [],
   "source": []
  },
  {
   "cell_type": "code",
   "execution_count": null,
   "metadata": {},
   "outputs": [],
   "source": []
  },
  {
   "cell_type": "code",
   "execution_count": null,
   "metadata": {},
   "outputs": [],
   "source": []
  },
  {
   "cell_type": "code",
   "execution_count": null,
   "metadata": {},
   "outputs": [],
   "source": []
  },
  {
   "cell_type": "code",
   "execution_count": null,
   "metadata": {},
   "outputs": [],
   "source": []
  },
  {
   "cell_type": "code",
   "execution_count": null,
   "metadata": {},
   "outputs": [],
   "source": []
  },
  {
   "cell_type": "code",
   "execution_count": null,
   "metadata": {},
   "outputs": [],
   "source": []
  },
  {
   "cell_type": "code",
   "execution_count": null,
   "metadata": {},
   "outputs": [],
   "source": []
  },
  {
   "cell_type": "code",
   "execution_count": null,
   "metadata": {},
   "outputs": [],
   "source": []
  },
  {
   "cell_type": "code",
   "execution_count": null,
   "metadata": {},
   "outputs": [],
   "source": []
  },
  {
   "cell_type": "code",
   "execution_count": null,
   "metadata": {},
   "outputs": [],
   "source": []
  }
 ],
 "metadata": {
  "kernelspec": {
   "display_name": "Python 3",
   "language": "python",
   "name": "python3"
  },
  "language_info": {
   "codemirror_mode": {
    "name": "ipython",
    "version": 3
   },
   "file_extension": ".py",
   "mimetype": "text/x-python",
   "name": "python",
   "nbconvert_exporter": "python",
   "pygments_lexer": "ipython3",
   "version": "3.7.3"
  }
 },
 "nbformat": 4,
 "nbformat_minor": 2
}
