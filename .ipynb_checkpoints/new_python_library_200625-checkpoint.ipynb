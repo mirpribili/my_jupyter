{
 "cells": [
  {
   "cell_type": "markdown",
   "metadata": {},
   "source": [
    "# Пойдем по темам за учебниками!"
   ]
  },
  {
   "cell_type": "code",
   "execution_count": 2,
   "metadata": {},
   "outputs": [
    {
     "name": "stdout",
     "output_type": "stream",
     "text": [
      "['Hellow World']\n"
     ]
    }
   ],
   "source": [
    "print([\"Hellow World\"])\n",
    "from pympler import asizeof\n",
    "from decimal import Decimal\n",
    "import copy\n",
    "import pandas as pd\n",
    "import datetime as dt\n",
    "from abc import ABC, abstractmethod\n",
    "import timeit\n",
    "import types"
   ]
  },
  {
   "cell_type": "markdown",
   "metadata": {},
   "source": [
    "# need to install library:  \n",
    "- pip install pympler\n",
    "- pip install decimal\n",
    "- *pip install tabulate > not use*\n",
    "\n",
    "You can also get this tutorial and run it on your laptop:\n",
    "\n",
    "    git clone https://github.com/ipython/ipython-in-depth\n",
    "    \n",
    "    Install anaconda https://losst.ru/ustanovka-anaconda-v-ubuntu\n",
    "    wget https://repo.anaconda.com/archive/Anaconda3-2019.03-Linux-x86_64.sh\n",
    "    sha256sum Anaconda3-2019.03-Linux-x86_64.sh\n",
    "    bash Anaconda3-2019.03-Linux-x86_64.sh\n",
    "    conda init bash\n",
    "    source ~/.bashrc\n",
    "    conda info\n",
    "    conda update conda\n",
    "    conda update anaconda\n",
    "    conda info --envs\n",
    "    conda activate base\n",
    "    \n",
    "Install IPython and Jupyter:\n",
    "\n",
    "with [conda](https://www.anaconda.com/download):\n",
    "\n",
    "    conda install ipython jupyter\n",
    "\n",
    "with pip:\n",
    "\n",
    "    # first, always upgrade pip!\n",
    "    pip install --upgrade pip\n",
    "    pip install --upgrade ipython jupyter\n",
    "\n",
    "Start the notebook in the tutorial directory:\n",
    "\n",
    "    cd ipython-in-depth\n",
    "    jupyter notebook"
   ]
  },
  {
   "cell_type": "code",
   "execution_count": null,
   "metadata": {},
   "outputs": [],
   "source": []
  },
  {
   "cell_type": "markdown",
   "metadata": {},
   "source": [
    "## *Зачем exсept в  питоне?*\n",
    "- Лутц, изучаем питон том 1, издание 5. стр 346\n",
    "- - ### Операторы и синтаксис\n",
    "- - - Зачем exсept в  питоне?\n",
    "- -----------------------------\n",
    "-  - - - <font color='green'>**Для перехвата исключений**</font>\n",
    "- -----------------------------\n",
    "- Лутц, изучаем питон том 2, издание 5. стр 327\n",
    "- - ### Глава 34. Детали обработки исключений\n",
    "- - - #### Операторы try\\except\\else\n",
    "- - - - Зачем exсept в  питоне?\n",
    "- -----------------------------\n",
    "- - - - - <font color='green'>**Конструкции except определяют обработчики для исключений, генерируемых в течение блока try**</font>\n",
    "- -----------------------------\n",
    "- Лутц, программирование на питон том 1, издание 4. стр \n",
    "- -----------------------------\n",
    "- - <font color='green'>**Не обнаружил уделение внимания вопросу**</font>\n",
    "- -----------------------------"
   ]
  },
  {
   "cell_type": "markdown",
   "metadata": {},
   "source": [
    "## *Стандартные типы данных*\n",
    "- Лутц, изучаем питон том 1, издание 5. стр 165\n",
    "- - ### Основы числовых типов\n",
    "- -----------------------------\n",
    "- - - <font color='green'>**Далее привожу код с размерами переменных**</font>\n",
    "- -----------------------------\n",
    "- Лутц, изучаем питон том 2, издание 5. стр ---\n",
    "- -----------------------------\n",
    "- - <font color='green'>**Не обнаружил уделение внимания вопросу**</font>\n",
    "- -----------------------------\n",
    "- Лутц, программирование на питон том 1, издание 4. стр ---\n",
    "- -----------------------------\n",
    "- - <font color='green'>**Не обнаружил уделение внимания вопросу**</font>\n",
    "- -----------------------------"
   ]
  },
  {
   "cell_type": "code",
   "execution_count": null,
   "metadata": {},
   "outputs": [],
   "source": [
    "# 1. Какие стандартные типы данных вы использовали в python?\n",
    "# :\n",
    "# Логический, может принимать одно из двух значений - \n",
    "# True(истина) False(ложь)\n",
    "is_true = True\n",
    "\n",
    "print(is_true, \" = \", asizeof.asizeof(not is_true), \"bytes\")"
   ]
  },
  {
   "cell_type": "code",
   "execution_count": null,
   "metadata": {},
   "outputs": [],
   "source": [
    "# числа, могут быть целыми\n",
    "int_number = 1\n",
    "\n",
    "print(int_number, \" = \",asizeof.asizeof(int_number), \"bytes\")\n",
    "\n",
    "#"
   ]
  },
  {
   "cell_type": "code",
   "execution_count": 3,
   "metadata": {},
   "outputs": [
    {
     "name": "stdout",
     "output_type": "stream",
     "text": [
      "1.0  =  24 bytes\n",
      "0.3333333333333333333333333333  =  104 bytes\n"
     ]
    }
   ],
   "source": [
    "# с плавающей точкой\n",
    "float_number = 1.0\n",
    "print(float_number, \" = \",asizeof.asizeof(float_number), \"bytes\")\n",
    "#\n",
    "# from decimal import Decimal\n",
    "dec_number = Decimal(1) / Decimal(3)\n",
    "print(dec_number, \" = \",asizeof.asizeof(dec_number), \"bytes\")\n"
   ]
  },
  {
   "cell_type": "code",
   "execution_count": 4,
   "metadata": {},
   "outputs": [
    {
     "name": "stdout",
     "output_type": "stream",
     "text": [
      "Привет  =  104 bytes\n"
     ]
    }
   ],
   "source": [
    "# строки - последовательность  Юникода, например, HTML - документ\n",
    "this_str = \"Привет\"\n",
    "print(this_str, \" = \" ,asizeof.asizeof(dec_number), \"bytes\")"
   ]
  },
  {
   "cell_type": "code",
   "execution_count": 5,
   "metadata": {},
   "outputs": [
    {
     "name": "stdout",
     "output_type": "stream",
     "text": [
      "['list', 1, 0, -3, 6]  =  280 bytes\n"
     ]
    }
   ],
   "source": [
    "# списки - упорядочные последовательности значений\n",
    "my_list = [\"list\",1,0,-3,6]\n",
    "print(my_list, \" = \" ,asizeof.asizeof(my_list), \"bytes\")"
   ]
  },
  {
   "cell_type": "code",
   "execution_count": 11,
   "metadata": {},
   "outputs": [],
   "source": [
    "sleep_list = ['спать', 'дрыхнуть', 'кемарить', 'почивать', 'спать']  \n",
    "# список\n",
    "sleep_dict = {'спать': 'дрыхнуть', 'почивать': 'кемарить'}  \n",
    "# словарь\n",
    "sleep_set = {'дрыхнуть', 'спать', 'почивать', 'кемарить'}  \n",
    "# множество; фигурные скобки в этом случае то же, что вызов set()"
   ]
  },
  {
   "cell_type": "code",
   "execution_count": 6,
   "metadata": {},
   "outputs": [
    {
     "name": "stdout",
     "output_type": "stream",
     "text": [
      "(1, 1, -1, 4, 5)  =  216 bytes\n",
      "{1, 4, 5, -1}  =  352 bytes\n",
      "{'languege': 'Python', 'Version': 3}  =  448 bytes\n"
     ]
    }
   ],
   "source": [
    "# кортежи - упорядочное неизменяемые последовательности значений\n",
    "my_tuple = (1,1,-1,4,5)\n",
    "print(my_tuple, \" = \" ,asizeof.asizeof(my_tuple), \"bytes\")\n",
    "\n",
    "# множества - неупорядочные наборы значений\n",
    "my_set = set([1,1,-1,4,5])\n",
    "print(my_set, \" = \" ,asizeof.asizeof(my_set), \"bytes\")\n",
    "# словари - неупорядочные наборы пар вида ключ-значение\n",
    "my_dict = {'languege':'Python', 'Version':3}\n",
    "print(my_dict, \" = \" ,asizeof.asizeof(my_dict), \"bytes\")"
   ]
  },
  {
   "cell_type": "code",
   "execution_count": 7,
   "metadata": {},
   "outputs": [
    {
     "name": "stdout",
     "output_type": "stream",
     "text": [
      "спец-символы \\nне работают\n",
      "спец-символы \n",
      "работают\n"
     ]
    }
   ],
   "source": [
    "# Сырые строки что это - это строки с r  \n",
    "# из-за которого спец символы в них не работают\n",
    "print(r\"спец-символы \\nне работают\")\n",
    "print(\"спец-символы \\nработают\")"
   ]
  },
  {
   "cell_type": "code",
   "execution_count": 8,
   "metadata": {},
   "outputs": [
    {
     "name": "stdout",
     "output_type": "stream",
     "text": [
      "(1, 2, 3)  =  168 bytes\n",
      "[5, 2, 3]  =  208 bytes\n"
     ]
    }
   ],
   "source": [
    "# () VS []\n",
    "# 3. В чем разница между tuple and list?  \n",
    "# кортежи неизменяемые а списки да. Это основная разница. \n",
    "#      Следствие кортежи быстрее\n",
    "# и занимают меньше памяти и стоит их использовать там где есть набор\n",
    "# элементов не требующий изменения\n",
    "tpl = tuple([1, 2, 3])\n",
    "#tpl[0] = 5 # ERROR\n",
    "print(tpl, \" = \" ,asizeof.asizeof(tpl), \"bytes\")\n",
    "\n",
    "list1 = list([1, 2, 3])\n",
    "list1[0] = 5\n",
    "print(list1, \" = \" ,asizeof.asizeof(list1), \"bytes\")"
   ]
  },
  {
   "cell_type": "code",
   "execution_count": 9,
   "metadata": {},
   "outputs": [
    {
     "name": "stdout",
     "output_type": "stream",
     "text": [
      "{11, 1, 2, 3}  =  352 bytes\n"
     ]
    }
   ],
   "source": [
    "# {}\n",
    "# 4. Что такое set?\n",
    "# Множество - это мешок содержащий неупорядочные уникальные \n",
    "#      значения. Одно множество\n",
    "# может содержать значения любых типов. Если у вас есть \n",
    "#      два множества, вы можете\n",
    "# совершать над ними любые стандартные операции, например,\n",
    "# объединение, пересечение, разность\n",
    "# \n",
    "# set() очень похож на список, но есть два важных отличия:\n",
    "# 1) Элементы в сете не повторяются, он избегает повторов, \n",
    "#      автоматически не вписывая их;\n",
    "# 2) Не гарантируется, что при выводе элементов на экран \n",
    "#      будет соблюден какой-то определенный порядок.\n",
    "my_set = set([1, 2, 3, 3, 3, 3, 3])\n",
    "my_set.add(11)\n",
    "print(my_set, \" = \" ,asizeof.asizeof(my_set), \"bytes\")"
   ]
  },
  {
   "cell_type": "code",
   "execution_count": 12,
   "metadata": {},
   "outputs": [],
   "source": [
    "# 5. Стандартные библиотеки питона (sys, date, regex, os.patch)\n",
    "# Модуль JSON позволяет кодировать и декодировать данные в \n",
    "#      удобном формате ?словаря?\n",
    "# Модуль datetime предоставляет классы для обработки времени и даты\n",
    "# Модуль os дает функции для работы с операционной системой, \n",
    "#      как правило, сохраняя\n",
    "#                   независимость от ОС что дает переносимость\n",
    "# Модуль unitest предоставляет набор инструментов для запуска тестов\n",
    "\n",
    "# 6. Что такое pep8?\n",
    "# Свод правил созданых на основе рекомендаций Гуидо вам Россума \n",
    "#      о том как лучше\n",
    "# следует писать код чтобы максимально сделать его понятным для других\n",
    "# Исходя из практики код намного чаще читается чем пишется\n",
    "# поэтому так важно писать все в едином стиле - pep8"
   ]
  },
  {
   "cell_type": "code",
   "execution_count": 13,
   "metadata": {},
   "outputs": [
    {
     "name": "stdout",
     "output_type": "stream",
     "text": [
      "3 1\n"
     ]
    }
   ],
   "source": [
    "# 7. сделать swap 2-х переменных\n",
    "a = 1\n",
    "b = 3\n",
    "a, b = b, a\n",
    "print(a, b)"
   ]
  },
  {
   "cell_type": "code",
   "execution_count": 14,
   "metadata": {},
   "outputs": [],
   "source": [
    "# 8. range и xrange в чем разница?\n",
    "#xrange возвращает генератор а не лист\n",
    "\n",
    "# но что такое генератор?\n",
    "# прблема range(1, 5миллионов)\n",
    "# если это список то оперативка сразу забита\n",
    "# генератор в 1 единицу времени выгружает 1 число\n",
    "\n",
    "# разница существует в версии питона 2. В третьей xrange\n",
    "# не существует. а range\n",
    "# ведет себя как xrange"
   ]
  },
  {
   "cell_type": "code",
   "execution_count": 15,
   "metadata": {},
   "outputs": [
    {
     "name": "stdout",
     "output_type": "stream",
     "text": [
      "1\n",
      "6\n"
     ]
    }
   ],
   "source": [
    "# 9. Задачка min max value in list \n",
    "my_list = [1, 2, 1, 1, 2, 4, 6]\n",
    "print(min(my_list))\n",
    "print(max(my_list))"
   ]
  },
  {
   "cell_type": "code",
   "execution_count": 16,
   "metadata": {},
   "outputs": [
    {
     "name": "stdout",
     "output_type": "stream",
     "text": [
      "[1, 2, 3]\n"
     ]
    }
   ],
   "source": [
    "# 10. Удалить повторяющиеся элементы в листе\n",
    "list0 = [1, 2, 1, 2, 1, 2, 1, 2, 3]\n",
    "print(list(set(list0)))"
   ]
  },
  {
   "cell_type": "code",
   "execution_count": 17,
   "metadata": {},
   "outputs": [
    {
     "name": "stdout",
     "output_type": "stream",
     "text": [
      "['00000', '0', '00', '0', '0', '00', '0', '0', '0', '0', '', '', '', '0', '00', '00', '000', '00', '']\n"
     ]
    }
   ],
   "source": [
    "# 11. Разрезать строку по разделителю\n",
    "string = \"00000101001010100101010101111010010010001001\"\n",
    "new_list = string.split('1')\n",
    "print(new_list)"
   ]
  },
  {
   "cell_type": "code",
   "execution_count": 18,
   "metadata": {},
   "outputs": [
    {
     "name": "stdout",
     "output_type": "stream",
     "text": [
      "6\n",
      "94344831607968\n",
      "94344831608000\n"
     ]
    }
   ],
   "source": [
    "# 12. mutavle and immutable typs\n",
    "# The following are same immutable objects:\n",
    "# int\n",
    "a = 5\n",
    "old_addr = id(a)\n",
    "a = 6\n",
    "new_addr = id(a)\n",
    "print(a)\n",
    "print(old_addr)\n",
    "print(new_addr)\n",
    "# float\n",
    "# decimal\n",
    "# bool\n",
    "# string\n",
    "# tuple\n",
    "# range\n",
    "# bytes"
   ]
  },
  {
   "cell_type": "code",
   "execution_count": 19,
   "metadata": {},
   "outputs": [
    {
     "name": "stdout",
     "output_type": "stream",
     "text": [
      "140002304003016\n",
      "140002304003016\n"
     ]
    }
   ],
   "source": [
    "# The following are same mutable objects:\n",
    "list0 = [1, 2, 3]\n",
    "old_addr = id(list0)\n",
    "list0[0] = 4\n",
    "new_addr =id(list0)\n",
    "print(old_addr)\n",
    "print(new_addr)\n",
    "# dict\n",
    "# set\n",
    "# bytearray\n",
    "# user-defined classes (unless specifically made immutable)"
   ]
  },
  {
   "cell_type": "code",
   "execution_count": 20,
   "metadata": {},
   "outputs": [],
   "source": [
    "# 16. Как передаются аргументы в функции по ссылке или значения?\n",
    "# Не так и не так потому что в пайтон все объекты\n",
    "# \n",
    "a = 5 # call-by-object = bicouse immutable\n",
    "b = [1, 2, 3, 4, 5] # call-by-reference = bicouse mutable\n",
    "#function1(2, a, b, {'a': 1, 'b': 2}, m = (4, 4, 5))"
   ]
  },
  {
   "cell_type": "code",
   "execution_count": 21,
   "metadata": {},
   "outputs": [
    {
     "name": "stdout",
     "output_type": "stream",
     "text": [
      "True\n",
      "True\n",
      "True\n"
     ]
    }
   ],
   "source": [
    "# 22. Есть ли ошибка\n",
    "def is_none(arg):\n",
    "    if arg:\n",
    "        return False\n",
    "    return True\n",
    "print(is_none(None))\n",
    "print(is_none([]))\n",
    "print(is_none(''))\n",
    "\n",
    "#is not None\n"
   ]
  },
  {
   "cell_type": "code",
   "execution_count": 22,
   "metadata": {},
   "outputs": [
    {
     "name": "stdout",
     "output_type": "stream",
     "text": [
      "True\n",
      "True\n",
      "4\n",
      "4\n"
     ]
    }
   ],
   "source": [
    "# для чего нужны декораторы @staticmethod и @classmetod,\n",
    "#      что они делают.\n",
    "# Декораторы это функции обертки которые дают возможность \n",
    "#      изменять поведение\n",
    "# функции не изменяя ее код\n",
    "class AAAAAAA:\n",
    "    \"\"\"docstring for A\"\"\"\n",
    "    value = 4\n",
    "    @staticmethod\n",
    "    def b():\n",
    "        return True\n",
    "    @classmethod # но не метод екземпляра self\n",
    "    def c(cls):\n",
    "        return cls.value\n",
    "\n",
    "a = AAAAAAA()\n",
    "print(AAAAAAA.b()) # благодаря staticmethod работает обращение \n",
    "#      напрямую к классу\n",
    "print(a.b())\n",
    "\n",
    "print(AAAAAAA.c())\n",
    "print(a.c())"
   ]
  },
  {
   "cell_type": "code",
   "execution_count": 23,
   "metadata": {},
   "outputs": [
    {
     "name": "stdout",
     "output_type": "stream",
     "text": [
      "[4, 2, 3]\n"
     ]
    }
   ],
   "source": [
    "# 39. Чем отличается copy.copy(x) и copy.deepcopy(x)\n",
    "x = [1, 2, 3]\n",
    "y = x\n",
    "y[0] = 4\n",
    "print(x)"
   ]
  },
  {
   "cell_type": "code",
   "execution_count": 24,
   "metadata": {},
   "outputs": [
    {
     "name": "stdout",
     "output_type": "stream",
     "text": [
      "[1, 2, 3]\n"
     ]
    }
   ],
   "source": [
    "x = [1, 2, 3]\n",
    "# например copy.copy(x) позволит сделать коппию массива \n",
    "#import copy\n",
    "y = copy.copy(x)\n",
    "y[0] = 4\n",
    "print(x)"
   ]
  },
  {
   "cell_type": "code",
   "execution_count": 25,
   "metadata": {},
   "outputs": [
    {
     "name": "stdout",
     "output_type": "stream",
     "text": [
      "[1, 2, 3, [4, 2, 3]]\n"
     ]
    }
   ],
   "source": [
    "x = [1, 2, 3, [1, 2, 3]]\n",
    "# но !!!!\n",
    "#      если массив\n",
    "# содержит в себе массив то она вложение не скопирует и \n",
    "#      проблема останется\n",
    "#import copy\n",
    "y = copy.copy(x)\n",
    "y[3][0] = 4\n",
    "print(x)"
   ]
  },
  {
   "cell_type": "code",
   "execution_count": 26,
   "metadata": {},
   "outputs": [
    {
     "name": "stdout",
     "output_type": "stream",
     "text": [
      "[1, 2, 3, [1, 2, 3]]\n"
     ]
    }
   ],
   "source": [
    "x = [1, 2, 3, [1, 2, 3]]\n",
    "# решим и ее\n",
    "#import copy\n",
    "y = copy.deepcopy(x)\n",
    "y[3][0] = 4\n",
    "print(x)"
   ]
  },
  {
   "cell_type": "code",
   "execution_count": 27,
   "metadata": {},
   "outputs": [
    {
     "name": "stdout",
     "output_type": "stream",
     "text": [
      "[{'a': -6, 'b': 0}, {'a': 4, 'b': 5}, {'a': 1, 'b': 200}]\n"
     ]
    }
   ],
   "source": [
    "# Анонимные функции(синтаксический сахар) могут содержать лишь одно\n",
    "# выражение, но и выполняются они быстрее\n",
    "# Анонимные функции создаются с помощью инструкции lambda. \n",
    "# В стандартной библиотеке полно функции которые принимают\n",
    "# другие функции: map, reduce, filter, sorted, any, all\n",
    "event_list = [{'a':1, 'b':200}, {'a':4, 'b':5}, {'a':-6, 'b':0}]\n",
    "# сделать сортировку по элементу list  словарей\n",
    "event_list.sort(key=lambda x: x['b'],) \n",
    "print(event_list)"
   ]
  },
  {
   "cell_type": "code",
   "execution_count": 28,
   "metadata": {},
   "outputs": [
    {
     "name": "stdout",
     "output_type": "stream",
     "text": [
      "True\n",
      "False\n"
     ]
    }
   ],
   "source": [
    "# 17. Что делает этот метод? id(object)\n",
    "b = a = 2\n",
    "print(id(a) == id(2))\n",
    "a = a + 1\n",
    "print(id(a) == id(b))"
   ]
  },
  {
   "cell_type": "markdown",
   "metadata": {},
   "source": [
    "# Украсим вывод\n",
    "### билиотекой pandas\n",
    "- посмотрим пример\n",
    "- используем для вывода данных об объекте"
   ]
  },
  {
   "cell_type": "code",
   "execution_count": 29,
   "metadata": {},
   "outputs": [
    {
     "data": {
      "text/html": [
       "<div>\n",
       "<style scoped>\n",
       "    .dataframe tbody tr th:only-of-type {\n",
       "        vertical-align: middle;\n",
       "    }\n",
       "\n",
       "    .dataframe tbody tr th {\n",
       "        vertical-align: top;\n",
       "    }\n",
       "\n",
       "    .dataframe thead th {\n",
       "        text-align: right;\n",
       "    }\n",
       "</style>\n",
       "<table border=\"1\" class=\"dataframe\">\n",
       "  <thead>\n",
       "    <tr style=\"text-align: right;\">\n",
       "      <th></th>\n",
       "      <th>Город</th>\n",
       "      <th>Площадь (кв. км)</th>\n",
       "      <th>Население (человек)</th>\n",
       "    </tr>\n",
       "  </thead>\n",
       "  <tbody>\n",
       "    <tr>\n",
       "      <th>0</th>\n",
       "      <td>Москва</td>\n",
       "      <td>2561</td>\n",
       "      <td>12615882</td>\n",
       "    </tr>\n",
       "    <tr>\n",
       "      <th>1</th>\n",
       "      <td>Санкт-Петербург</td>\n",
       "      <td>1439</td>\n",
       "      <td>5383890</td>\n",
       "    </tr>\n",
       "    <tr>\n",
       "      <th>2</th>\n",
       "      <td>Ярославль</td>\n",
       "      <td>205</td>\n",
       "      <td>609828</td>\n",
       "    </tr>\n",
       "    <tr>\n",
       "      <th>3</th>\n",
       "      <td>Хабаровск</td>\n",
       "      <td>383</td>\n",
       "      <td>1321473</td>\n",
       "    </tr>\n",
       "  </tbody>\n",
       "</table>\n",
       "</div>"
      ],
      "text/plain": [
       "             Город  Площадь (кв. км)  Население (человек)\n",
       "0           Москва              2561             12615882\n",
       "1  Санкт-Петербург              1439              5383890\n",
       "2        Ярославль               205               609828\n",
       "3        Хабаровск               383              1321473"
      ]
     },
     "execution_count": 29,
     "metadata": {},
     "output_type": "execute_result"
    }
   ],
   "source": [
    "# https://habr.com/en/post/485318/\n",
    "#\n",
    "tabledata = [[\"Москва\", 2561, 12615882],\n",
    "         [\"Санкт-Петербург\", 1439, 5383890],\n",
    "         [\"Ярославль\", 205, 609828],\n",
    "         [\"Хабаровск\", 383, 1321473]]\n",
    "#import pandas as pd\n",
    "pd.DataFrame(tabledata, \n",
    "             columns=[\"Город\",\"Площадь (кв. км)\",\n",
    "                      \"Население (человек)\"])"
   ]
  },
  {
   "cell_type": "code",
   "execution_count": 30,
   "metadata": {},
   "outputs": [
    {
     "name": "stdout",
     "output_type": "stream",
     "text": [
      "4\n",
      "\n",
      "type object 'A' has no attribute '__a2'\n",
      "\n",
      "             name\n",
      "0      __module__\n",
      "1             _a1\n",
      "2          _A__a2\n",
      "3      function_1\n",
      "4     _function_2\n",
      "5  _A__function_3\n",
      "6        __dict__\n",
      "7     __weakref__\n",
      "8         __doc__\n",
      "\n",
      " 5\n"
     ]
    }
   ],
   "source": [
    "# 29. Как в Python опредеить private атрибут или метод\n",
    "# Можно ли вызвать метод снаружи класса?  в питоне да(\n",
    "class A:\n",
    "    _a1 = 4\n",
    "    __a2 = 5\n",
    "    def function_1():\n",
    "        pass\n",
    "    def _function_2():\n",
    "        pass\n",
    "    def __function_3():\n",
    "        pass\n",
    "\n",
    "print(A._a1)\n",
    "\n",
    "\n",
    "try:\n",
    "    print(A.__a2)\n",
    "except:\n",
    "    print(\"\\ntype object 'A' has no attribute '__a2'\\n\")\n",
    "\n",
    "import pandas as pd\n",
    "print(pd.DataFrame(A.__dict__, columns = [\"name\"]))\n",
    "\n",
    "print(\"\\n\",A._A__a2)\n"
   ]
  },
  {
   "cell_type": "code",
   "execution_count": null,
   "metadata": {},
   "outputs": [],
   "source": []
  }
 ],
 "metadata": {
  "kernelspec": {
   "display_name": "Python 3",
   "language": "python",
   "name": "python3"
  },
  "language_info": {
   "codemirror_mode": {
    "name": "ipython",
    "version": 3
   },
   "file_extension": ".py",
   "mimetype": "text/x-python",
   "name": "python",
   "nbconvert_exporter": "python",
   "pygments_lexer": "ipython3",
   "version": "3.7.3"
  }
 },
 "nbformat": 4,
 "nbformat_minor": 2
}
