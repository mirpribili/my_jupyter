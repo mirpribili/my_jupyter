{
 "cells": [
  {
   "cell_type": "markdown",
   "metadata": {},
   "source": [
    "# CodeWars!\n",
    "- - [Алгоритмы теория и практика Методы](http://localhost:8888/notebooks/jupyter/%D0%90%D0%BB%D0%B3%D0%BE%D1%80%D0%B8%D1%82%D0%BC%D1%8B%20%D1%82%D0%B5%D0%BE%D1%80%D0%B8%D1%8F%20%D0%B8%20%D0%BF%D1%80%D0%B0%D0%BA%D1%82%D0%B8%D0%BA%D0%B0%20%D0%9C%D0%B5%D1%82%D0%BE%D0%B4%D1%8B.ipynb#):\n",
    "- [Codewars](http://localhost:8888/notebooks/CodeWars.ipynb)\n",
    "- - [Справрчник Python](http://localhost:8888/notebooks/jupyter/200625_%D1%81%D0%BF%D1%80%D0%B0%D0%B2%D0%BE%D1%87%D0%BD%D0%B8%D0%BA.ipynb#):\n",
    "- - [Функции](http://localhost:8888/notebooks/%D0%A4%D1%83%D0%BA%D1%86%D0%B8%D0%B8.ipynb)"
   ]
  },
  {
   "cell_type": "code",
   "execution_count": 37,
   "metadata": {},
   "outputs": [
    {
     "name": "stdout",
     "output_type": "stream",
     "text": [
      "OK \t 3 3 \n",
      " ----------------------------------------------------\n",
      "OK \t 3 3 \n",
      " ----------------------------------------------------\n",
      "OK \t 3 3 \n",
      " ----------------------------------------------------\n",
      "OK \t 1 1 \n",
      " ----------------------------------------------------\n",
      "OK \t 2 2 \n",
      " ----------------------------------------------------\n"
     ]
    }
   ],
   "source": [
    "# ------------------------------------------------\n",
    "# Program by A.I.\n",
    "#\n",
    "#\n",
    "# Version      Date        Info\n",
    "# 1.0          2020    Initial Version\n",
    "# Hello Hello\n",
    "# ------------------------------------------------\n",
    "class Test:\n",
    "    def __init__(self):\n",
    "        self.describe2 = ''\n",
    "        self.it2 = ''\n",
    "\n",
    "    def describe(self, describe):\n",
    "        self.describe2 = describe\n",
    "\n",
    "    def it(self, it):\n",
    "        self.it2 = it\n",
    "\n",
    "    def assert_equals(self, problem, solved):\n",
    "        if problem != solved:\n",
    "            print('\\t', problem, solved)\n",
    "            raise Exception('Incorrect solved')\n",
    "        else:\n",
    "            print('OK \\t', problem, solved, '\\n', '-' * 52)\n",
    "\n",
    "\n",
    "def find_short(x):\n",
    "    res = x\n",
    "    for i in x.split():\n",
    "        if len(i) < len(res):\n",
    "            res = i\n",
    "    #print(res)\n",
    "        \n",
    "    return len(res)\n",
    "\n",
    "\n",
    "# BEST\n",
    "def find_short(s):\n",
    "    return min(len(x) for x in s.split())\n",
    "\n",
    "test = Test()\n",
    "\n",
    "test.describe(\"Basic Tests\")\n",
    "test.assert_equals(find_short(\"bitcoin take over the world maybe who knows perhaps\"), 3)\n",
    "test.assert_equals(find_short(\"turns out random test cases are easier than writing out basic ones\"), 3)\n",
    "test.assert_equals(find_short(\"lets talk about javascript the best language\"), 3)\n",
    "test.assert_equals(find_short(\"i want to travel the world writing code one day\"), 1)\n",
    "test.assert_equals(find_short(\"Lets all go on holiday somewhere very cold\"), 2)\n",
    "\n",
    "\n",
    "\n",
    "\n",
    "\n",
    "\n",
    "\n"
   ]
  },
  {
   "cell_type": "code",
   "execution_count": 9,
   "metadata": {},
   "outputs": [
    {
     "name": "stdout",
     "output_type": "stream",
     "text": [
      "OK \t aehrsty aehrsty \n",
      " ----------------------------------------------------\n",
      "OK \t abcdefghilnoprstu abcdefghilnoprstu \n",
      " ----------------------------------------------------\n",
      "OK \t acefghilmnoprstuy acefghilmnoprstuy \n",
      " ----------------------------------------------------\n"
     ]
    }
   ],
   "source": [
    "'''\n",
    "Take 2 strings s1 and s2 including only letters from ato z. \n",
    "Return a new sorted string, the longest possible, containing distinct letters,\n",
    "\n",
    "    each taken only once - coming from s1 or s2.\n",
    "\n",
    "'''\n",
    "class Test:\n",
    "    def __init__(self):\n",
    "        self.describe = ''\n",
    "        self.it = ''\n",
    "        \n",
    "    def describe(describe):\n",
    "        describe = describe\n",
    "    \n",
    "    def it(it):\n",
    "        it = it\n",
    "        \n",
    "    def assert_equals(problem, solved):\n",
    "        if problem != solved:\n",
    "            print('\\t', problem, solved)\n",
    "            raise Exception('Incorrect solved')\n",
    "        else:\n",
    "            print('OK \\t', problem, solved, '\\n', '-'*52)\n",
    "\n",
    "\n",
    "#MY\n",
    "def longest(s1, s2):\n",
    "    # your code\n",
    "    return ''.join(sorted((set(s1+s2))))\n",
    "\n",
    "Test.describe(\"longest\")\n",
    "Test.it(\"Basic tests\")\n",
    "Test.assert_equals(longest(\"aretheyhere\", \"yestheyarehere\"), \"aehrsty\")\n",
    "Test.assert_equals(longest(\"loopingisfunbutdangerous\", \"lessdangerousthancoding\"), \"abcdefghilnoprstu\")\n",
    "Test.assert_equals(longest(\"inmanylanguages\", \"theresapairoffunctions\"), \"acefghilmnoprstuy\")\n",
    "\n",
    "\n",
    "# BEST\n",
    "def longest(a1, a2):\n",
    "    return \"\".join(sorted(set(a1 + a2)))\n",
    "\n"
   ]
  },
  {
   "cell_type": "code",
   "execution_count": 3,
   "metadata": {},
   "outputs": [
    {
     "name": "stdout",
     "output_type": "stream",
     "text": [
      "(123) 456-7890\n",
      "(123) 456-7890\n"
     ]
    }
   ],
   "source": [
    "'''\n",
    "Write a function that accepts an array of 10 \n",
    "integers (between 0 and 9), that returns a \n",
    "string of those numbers in the form of a phone number.\n",
    "\n",
    "Test.describe(\"Basic tests\")\n",
    "Test.assert_equals(create_phone_number(\n",
    "[1, 2, 3, 4, 5, 6, 7, 8, 9, 0]), \"(123) 456-7890\")\n",
    "Test.assert_equals(create_phone_number(\n",
    "[1, 1, 1, 1, 1, 1, 1, 1, 1, 1]), \"(111) 111-1111\")\n",
    "Test.assert_equals(create_phone_number(\n",
    "[1, 2, 3, 4, 5, 6, 7, 8, 9, 0]), \"(123) 456-7890\")\n",
    "Test.assert_equals(create_phone_number(\n",
    "[0, 2, 3, 0, 5, 6, 0, 8, 9, 0]), \"(023) 056-0890\")\n",
    "Test.assert_equals(create_phone_number(\n",
    "[0, 0, 0, 0, 0, 0, 0, 0, 0, 0]), \"(000) 000-0000\")\n",
    "'''\n",
    "\n",
    "def create_phone_number_MY(n):\n",
    "    return '(' + ''.join(map(str, n[0:3])) + ') ' + ''.join(map(str, n[3:6])) + '-' + ''.join(map(str, n[6:]))\n",
    "\n",
    "\n",
    "print(create_phone_number_MY([1, 2, 3, 4, 5, 6, 7, 8, 9, 0]) )\n",
    "# => returns \"(123) 456-7890\"\n",
    "\n",
    "######################################\n",
    "def create_phone_number(n):\n",
    "    return \"({}{}{}) {}{}{}-{}{}{}{}\".format(*n)\n",
    "print(create_phone_number([1, 2, 3, 4, 5, 6, 7, 8, 9, 0]) )"
   ]
  },
  {
   "cell_type": "code",
   "execution_count": null,
   "metadata": {},
   "outputs": [],
   "source": []
  }
 ],
 "metadata": {
  "kernelspec": {
   "display_name": "Python 3",
   "language": "python",
   "name": "python3"
  },
  "language_info": {
   "codemirror_mode": {
    "name": "ipython",
    "version": 3
   },
   "file_extension": ".py",
   "mimetype": "text/x-python",
   "name": "python",
   "nbconvert_exporter": "python",
   "pygments_lexer": "ipython3",
   "version": "3.7.3"
  }
 },
 "nbformat": 4,
 "nbformat_minor": 2
}
